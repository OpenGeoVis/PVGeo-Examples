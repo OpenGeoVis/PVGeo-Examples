{
 "cells": [
  {
   "cell_type": "code",
   "execution_count": 1,
   "metadata": {},
   "outputs": [
    {
     "name": "stdout",
     "output_type": "stream",
     "text": [
      "NumPy Version: 1.13.0\n",
      "PVGeo Version: 1.1.22\n"
     ]
    },
    {
     "name": "stderr",
     "output_type": "stream",
     "text": [
      "/Users/bane/anaconda3/envs/PVGeoTesting/lib/python3.6/site-packages/ipykernel/__main__.py:273: DeprecationWarning: 'U' mode is deprecated\n"
     ]
    }
   ],
   "source": [
    "import PVGeo\n",
    "import numpy as np\n",
    "\n",
    "print('NumPy Version: %s' % np.__version__)\n",
    "print('PVGeo Version: %s' % PVGeo.__version__)"
   ]
  },
  {
   "cell_type": "markdown",
   "metadata": {},
   "source": [
    "# Welcome to PVGeo\n",
    "\n",
    "Thanks for checking out this notebook! We hope this provides some insight on how you can get started using PVGeo in your Python (3) routines. Let's get started!\n",
    "\n",
    "At the top of this notebook, we import `numpy` and `PVGeo` and display the current environment's version of thos packages. Since PVGeo is still in its infancy, feature development is rapid and new versions get deployed very often. With this in mind, be sure to keep the PVGeo in your environment up to date! \n",
    "\n",
    "A simple way to update PVGeo from your Jupyter Notebook:\n",
    "\n",
    "```py\n",
    "!pip install --upgrade PVGeo\n",
    "```\n",
    "\n",
    "Since this notbook is hosted on Microsoft Azure, we have place some data files in the `data/` directory for you to use. The remainder of this notebook will explore a few examples loading, filter, and writing out data using PVGeo.\n",
    "\n",
    "# Table to Points\n",
    "\n",
    "Let's go ahead and load a simple file that has XYZ coordinates and a boolean array for fault presence. This point cloud makes some sort of regular grid, but we have forgotten the deatials of the cell spacings and local coordinate rotations.\n",
    "\n",
    "We will read in this data with pandas and send it to the PVGeo filter `PointsToPolyData` to create a `vtkPolyData` object (essentially a point cloud)."
   ]
  },
  {
   "cell_type": "code",
   "execution_count": 2,
   "metadata": {},
   "outputs": [],
   "source": [
    "import pandas as pd"
   ]
  },
  {
   "cell_type": "code",
   "execution_count": 3,
   "metadata": {},
   "outputs": [
    {
     "data": {
      "text/html": [
       "<div>\n",
       "<style scoped>\n",
       "    .dataframe tbody tr th:only-of-type {\n",
       "        vertical-align: middle;\n",
       "    }\n",
       "\n",
       "    .dataframe tbody tr th {\n",
       "        vertical-align: top;\n",
       "    }\n",
       "\n",
       "    .dataframe thead th {\n",
       "        text-align: right;\n",
       "    }\n",
       "</style>\n",
       "<table border=\"1\" class=\"dataframe\">\n",
       "  <thead>\n",
       "    <tr style=\"text-align: right;\">\n",
       "      <th></th>\n",
       "      <th>X</th>\n",
       "      <th>Y</th>\n",
       "      <th>Z</th>\n",
       "      <th>Fault</th>\n",
       "    </tr>\n",
       "  </thead>\n",
       "  <tbody>\n",
       "    <tr>\n",
       "      <th>0</th>\n",
       "      <td>326819.497</td>\n",
       "      <td>4407450.636</td>\n",
       "      <td>1287.5</td>\n",
       "      <td>0</td>\n",
       "    </tr>\n",
       "    <tr>\n",
       "      <th>1</th>\n",
       "      <td>326834.340</td>\n",
       "      <td>4407470.753</td>\n",
       "      <td>1287.5</td>\n",
       "      <td>0</td>\n",
       "    </tr>\n",
       "  </tbody>\n",
       "</table>\n",
       "</div>"
      ],
      "text/plain": [
       "            X            Y       Z  Fault\n",
       "0  326819.497  4407450.636  1287.5      0\n",
       "1  326834.340  4407470.753  1287.5      0"
      ]
     },
     "execution_count": 3,
     "metadata": {},
     "output_type": "execute_result"
    }
   ],
   "source": [
    "points = pd.read_csv('data/fault_points.csv')\n",
    "points[0:2]"
   ]
  },
  {
   "cell_type": "code",
   "execution_count": 4,
   "metadata": {},
   "outputs": [
    {
     "data": {
      "text/plain": [
       "(vtkCommonDataModelPython.vtkPolyData)0x10d7e47c8"
      ]
     },
     "execution_count": 4,
     "metadata": {},
     "output_type": "execute_result"
    }
   ],
   "source": [
    "# Convert to vtkPolyData (this assumes first three columns are XYZ)\n",
    "vtkpoints = PVGeo.filters.PointsToPolyData(points)\n",
    "vtkpoints"
   ]
  },
  {
   "cell_type": "markdown",
   "metadata": {},
   "source": [
    "# Points to Voxelized Volume\n",
    "\n",
    "\n",
    "Now we that we have the point-attribute data from `data/fault_points.csv` as a VTK data object, we can use a PVGeo filter to create a volumetric data set of this point cloud so that further volumetric operations can be performed wither by PVGeo or VTK filters.\n",
    "\n",
    "Remember that these points are rotated and we do not know the cell sizes... this is okay! The `VoxelizePoints` filter from PVGeo will handle the recovory of the coordinate rotation and grid our data **without** running an interpolation scheme. The `VoxelizePoints` filter assumes that the points are structure on some rotated XY-plane with regular cell spacings and does the rest on its own! Check out [`VoxelizePoints` code docs](http://docs.pvgeo.org/en/latest/content/PVGeo/filters/voxelize.html#voxelize-points) for more details."
   ]
  },
  {
   "cell_type": "code",
   "execution_count": 5,
   "metadata": {},
   "outputs": [
    {
     "name": "stdout",
     "output_type": "stream",
     "text": [
      "Voxelizing... done.\n",
      "Recovered Angle (deg.): 53.550\n",
      "Recovered Cell Sizes: (25.00, 25.00, 25.00)\n"
     ]
    },
    {
     "data": {
      "text/plain": [
       "(vtkCommonDataModelPython.vtkUnstructuredGrid)0x10d7e4948"
      ]
     },
     "execution_count": 5,
     "metadata": {},
     "output_type": "execute_result"
    }
   ],
   "source": [
    "# The full pipeline method\n",
    "print('Voxelizing... ', end='')\n",
    "voxelizer = PVGeo.filters.VoxelizePoints()\n",
    "grid = voxelizer.Apply(vtkpoints)\n",
    "print('done.')\n",
    "\n",
    "# Output the results\n",
    "print('Recovered Angle (deg.): %.3f' % voxelizer.GetRecoveredAngle())\n",
    "print('Recovered Cell Sizes: (%.2f, %.2f, %.2f)' % voxelizer.GetSpacing())\n",
    "grid"
   ]
  },
  {
   "cell_type": "code",
   "execution_count": 6,
   "metadata": {},
   "outputs": [],
   "source": [
    "# A simpler method to voxelize\n",
    "# grid = PVGeo.filters.VoxelizePoints().Apply(vtkpoints)\n",
    "# grid"
   ]
  },
  {
   "cell_type": "markdown",
   "metadata": {},
   "source": [
    "# Thresholding\n",
    "Now that we have a volumetric dataset (`vtkUnstrucutred`), we can perform volumetric operations like thresholding, slicing, and the works! We could use VTK's `vtkThreshold` filter but lets try out PVGeo's `PercentThreshold` because it allows us to chop of parts of the data by a given percentage of the data range."
   ]
  },
  {
   "cell_type": "code",
   "execution_count": 7,
   "metadata": {},
   "outputs": [
    {
     "data": {
      "text/plain": [
       "(vtkCommonDataModelPython.vtkUnstructuredGrid)0x10d7e4b28"
      ]
     },
     "execution_count": 7,
     "metadata": {},
     "output_type": "execute_result"
    }
   ],
   "source": [
    "# Threshold: remove the bottom 75%\n",
    "thresholder = PVGeo.filters.PercentThreshold(percent=75)\n",
    "thresh = thresholder.Apply(grid, 'Fault')\n",
    "thresh"
   ]
  },
  {
   "cell_type": "code",
   "execution_count": 8,
   "metadata": {},
   "outputs": [
    {
     "name": "stdout",
     "output_type": "stream",
     "text": [
      "Cell reduction: 499200 vs. 89055 \n"
     ]
    }
   ],
   "source": [
    "print('Cell reduction: %d vs. %d ' % (grid.GetNumberOfCells(), thresh.GetNumberOfCells()))"
   ]
  },
  {
   "cell_type": "markdown",
   "metadata": {},
   "source": [
    "# Slice Volumetric Data\n",
    "\n",
    "Now lets use one of PVGeo's slicing filters to create slices of the thresholded dataset"
   ]
  },
  {
   "cell_type": "code",
   "execution_count": 14,
   "metadata": {},
   "outputs": [
    {
     "data": {
      "text/plain": [
       "(vtkCommonDataModelPython.vtkMultiBlockDataSet)0x10e2bca08"
      ]
     },
     "execution_count": 14,
     "metadata": {},
     "output_type": "execute_result"
    }
   ],
   "source": [
    "slices = PVGeo.filters.ManySlicesAlongAxis(numSlices=5).Apply(grid)\n",
    "slices"
   ]
  },
  {
   "cell_type": "code",
   "execution_count": 15,
   "metadata": {},
   "outputs": [
    {
     "data": {
      "text/plain": [
       "(vtkCommonDataModelPython.vtkPolyData)0x10e2bc828"
      ]
     },
     "execution_count": 15,
     "metadata": {},
     "output_type": "execute_result"
    }
   ],
   "source": [
    "slice0 = slices.GetBlock(0)\n",
    "slice0"
   ]
  },
  {
   "cell_type": "code",
   "execution_count": null,
   "metadata": {},
   "outputs": [],
   "source": []
  },
  {
   "cell_type": "code",
   "execution_count": 20,
   "metadata": {},
   "outputs": [],
   "source": [
    "# Save slices as png files\n",
    "import vtk\n",
    "from vtk.numpy_interface import dataset_adapter as dsa\n",
    "pdi = slice0"
   ]
  },
  {
   "cell_type": "code",
   "execution_count": 23,
   "metadata": {},
   "outputs": [],
   "source": [
    "bounds = pdi.GetBounds()\n",
    "x = (bounds[1] - bounds[0])/2\n",
    "y = (bounds[3] - bounds[2])/2\n",
    "z = (bounds[5] - bounds[4])/2\n",
    "origin = (x, y, z)\n",
    "\n",
    "def GetSpacing(pdi):\n",
    "    # First check field data for this info\n",
    "    \n",
    "    # Otherwise compute ir\n",
    "    wpdi = dsa.WrapDataObject(pdi)\n",
    "    pts = wpdi.Points\n",
    "    dx, dy, dz = np.diff(pts[:,0]),np.diff(pts[:,1]),np.diff(pts[:,2])\n",
    "    dx, dy, dz = np.unique(dx),np.unique(dy),np.unique(dz)\n",
    "    print(dx, dy, dz)\n",
    "    \n",
    "#GetSpacing(pdi)\n",
    "spacing = (25., 25., 25.)"
   ]
  },
  {
   "cell_type": "code",
   "execution_count": 28,
   "metadata": {},
   "outputs": [
    {
     "data": {
      "text/plain": [
       "(vtkImagingCorePython.vtkImageStencilData)0x10cbfa408"
      ]
     },
     "execution_count": 28,
     "metadata": {},
     "output_type": "execute_result"
    }
   ],
   "source": [
    "# polygonal data --> image stencil:\n",
    "pol2stenc = vtk.vtkPolyDataToImageStencil()\n",
    "pol2stenc.SetInputDataObject(slice0)\n",
    "\n",
    "bounds = slice0.GetBounds()\n",
    "pol2stenc.SetOutputOrigin(origin)\n",
    "pol2stenc.SetOutputSpacing(spacing)\n",
    "#pol2stenc.SetOutputWholeExtent(pdi.GetWholeExtent())\n",
    "pol2stenc.Update()\n",
    "out = pol2stenc.GetOutputDataObject(0)\n",
    "out"
   ]
  },
  {
   "cell_type": "code",
   "execution_count": 32,
   "metadata": {},
   "outputs": [],
   "source": [
    "# cut the corresponding white image and set the background:\n",
    "imgstenc = vtk.vtkImageStencil()\n",
    "imgstenc.SetInputDataObject(grid);\n",
    "imgstenc.SetStencilConnection(pol2stenc.GetOutputPort())\n",
    "imgstenc.ReverseStencilOff()\n",
    "imgstenc.Update()"
   ]
  },
  {
   "cell_type": "code",
   "execution_count": null,
   "metadata": {},
   "outputs": [],
   "source": [
    "writer = vtk.vtkMetaImageWriter()\n",
    "writer.SetFileName(\"testimage.mhd\");\n",
    "writer.SetInputData(imgstenc.GetOutput());\n",
    "writer.Write()"
   ]
  },
  {
   "cell_type": "code",
   "execution_count": null,
   "metadata": {},
   "outputs": [],
   "source": []
  }
 ],
 "metadata": {
  "kernelspec": {
   "display_name": "Python [conda env:PVGeoTesting]",
   "language": "python",
   "name": "conda-env-PVGeoTesting-py"
  },
  "language_info": {
   "codemirror_mode": {
    "name": "ipython",
    "version": 3
   },
   "file_extension": ".py",
   "mimetype": "text/x-python",
   "name": "python",
   "nbconvert_exporter": "python",
   "pygments_lexer": "ipython3",
   "version": "3.6.5"
  },
  "varInspector": {
   "cols": {
    "lenName": 16,
    "lenType": 16,
    "lenVar": 40
   },
   "kernels_config": {
    "python": {
     "delete_cmd_postfix": "",
     "delete_cmd_prefix": "del ",
     "library": "var_list.py",
     "varRefreshCmd": "print(var_dic_list())"
    },
    "r": {
     "delete_cmd_postfix": ") ",
     "delete_cmd_prefix": "rm(",
     "library": "var_list.r",
     "varRefreshCmd": "cat(var_dic_list()) "
    }
   },
   "types_to_exclude": [
    "module",
    "function",
    "builtin_function_or_method",
    "instance",
    "_Feature"
   ],
   "window_display": false
  }
 },
 "nbformat": 4,
 "nbformat_minor": 2
}
