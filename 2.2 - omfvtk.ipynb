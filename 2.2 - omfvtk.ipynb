{
 "cells": [
  {
   "cell_type": "code",
   "execution_count": null,
   "metadata": {},
   "outputs": [],
   "source": [
    "import vista\n",
    "import omfvista\n",
    "\n",
    "vista.set_plot_theme('document')\n",
    "\n",
    "project = omfvista.load_project('data/test_file.omf')\n",
    "project"
   ]
  },
  {
   "cell_type": "code",
   "execution_count": null,
   "metadata": {},
   "outputs": [],
   "source": [
    "project.plot(multi_colors=True)"
   ]
  },
  {
   "cell_type": "code",
   "execution_count": null,
   "metadata": {},
   "outputs": [],
   "source": [
    "# Grab a few elements of interest and plot em up!\n",
    "vol = project['Block Model']\n",
    "assay = project['wolfpass_WP_assay']\n",
    "topo = project['Topography']\n",
    "dacite = project['Dacite']"
   ]
  },
  {
   "cell_type": "code",
   "execution_count": null,
   "metadata": {},
   "outputs": [],
   "source": [
    "vol.slice_orthogonal().plot()"
   ]
  },
  {
   "cell_type": "code",
   "execution_count": null,
   "metadata": {},
   "outputs": [],
   "source": [
    "threshed = vol.threshold_percent([0.25, 0.75])\n",
    "threshed.plot(clim=vol.get_data_range())"
   ]
  },
  {
   "cell_type": "code",
   "execution_count": null,
   "metadata": {},
   "outputs": [],
   "source": [
    "# make an active plotting window\n",
    "p = vista.Plotter()\n",
    "# Add datasets\n",
    "p.add_mesh(topo, cmap='gist_earth', opacity=0.5)\n",
    "p.add_mesh(threshed, opacity=0.5)\n",
    "p.add_mesh(assay, color='red', line_width=3)\n",
    "p.add_mesh(dacite, color='yellow', opacity=0.6)\n",
    "# Add the bounds axis\n",
    "p.show_bounds()\n",
    "# Render\n",
    "p.show()"
   ]
  },
  {
   "cell_type": "code",
   "execution_count": null,
   "metadata": {},
   "outputs": [],
   "source": []
  }
 ],
 "metadata": {
  "kernelspec": {
   "display_name": "Python [conda env:dev]",
   "language": "python",
   "name": "dev"
  },
  "language_info": {
   "codemirror_mode": {
    "name": "ipython",
    "version": 3
   },
   "file_extension": ".py",
   "mimetype": "text/x-python",
   "name": "python",
   "nbconvert_exporter": "python",
   "pygments_lexer": "ipython3",
   "version": "3.7.2"
  }
 },
 "nbformat": 4,
 "nbformat_minor": 2
}
