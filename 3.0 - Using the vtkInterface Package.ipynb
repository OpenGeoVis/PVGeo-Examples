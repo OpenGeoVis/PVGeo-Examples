{
 "cells": [
  {
   "cell_type": "markdown",
   "metadata": {},
   "source": [
    "# Using the vtkInterface Package\n",
    "\n",
    "This notebook is a work in progress to demo how PVGeo can be used with `vtki` for creating integrated visualization directly in a Python environment."
   ]
  },
  {
   "cell_type": "code",
   "execution_count": 1,
   "metadata": {},
   "outputs": [],
   "source": [
    "import vtki\n",
    "import PVGeo\n",
    "from PVGeo.grids import ExtractTopography\n",
    "from PVGeo.ubc import TopoReader\n",
    "from PVGeo.filters import PercentThreshold, ManySlicesAlongAxis\n",
    "import numpy as np\n",
    "import discretize"
   ]
  },
  {
   "cell_type": "markdown",
   "metadata": {},
   "source": [
    "## Load the Data"
   ]
  },
  {
   "cell_type": "code",
   "execution_count": 2,
   "metadata": {},
   "outputs": [],
   "source": [
    "# Load the TensorMesh and some already processed model data \n",
    "mesh = discretize.TensorMesh.readUBC('craig_chile.msh', directory='data/Craig-Chile')\n",
    "models = {'lpout': mesh.readModelUBC(fileName='Lpout.mod', directory='data/Craig-Chile')}"
   ]
  },
  {
   "cell_type": "code",
   "execution_count": 3,
   "metadata": {},
   "outputs": [
    {
     "data": {
      "text/plain": [
       "(vtkCommonDataModelPython.vtkPolyData)0x12569cfa8"
      ]
     },
     "execution_count": 3,
     "metadata": {},
     "output_type": "execute_result"
    }
   ],
   "source": [
    "# Load topography data using PVGeo\n",
    "topo = TopoReader().Apply('data/Craig-Chile/LdM_topo.topo')\n",
    "topo"
   ]
  },
  {
   "cell_type": "markdown",
   "metadata": {},
   "source": [
    "## Build a Pipeline \n",
    "\n",
    "Here we build up a pipeline that will transform and integrate the data"
   ]
  },
  {
   "cell_type": "code",
   "execution_count": 4,
   "metadata": {},
   "outputs": [],
   "source": [
    "extractor = ExtractTopography(offset=-150, tolerance=10, op='underneath')\n",
    "extracted = extractor.Apply(mesh.toVTK(models=models), topo)"
   ]
  },
  {
   "cell_type": "code",
   "execution_count": 5,
   "metadata": {},
   "outputs": [],
   "source": [
    "# threshold out the topography\n",
    "subsurface = PercentThreshold().Apply(extracted, 'Extracted')\n",
    "# threshold out the high values\n",
    "low = PercentThreshold(invert=True, percent=35).Apply(subsurface, 'lpout')"
   ]
  },
  {
   "cell_type": "code",
   "execution_count": 6,
   "metadata": {},
   "outputs": [
    {
     "data": {
      "text/plain": [
       "(vtkCommonDataModelPython.vtkMultiBlockDataSet)0x12570f108"
      ]
     },
     "execution_count": 6,
     "metadata": {},
     "output_type": "execute_result"
    }
   ],
   "source": [
    "# Slice the subsurface model\n",
    "sliced = ManySlicesAlongAxis(numSlices=5, axis=1).Apply(subsurface)\n",
    "sliced"
   ]
  },
  {
   "cell_type": "code",
   "execution_count": 7,
   "metadata": {},
   "outputs": [],
   "source": [
    "# Get the scalar range to plot everything the same way\n",
    "arr = PVGeo.getArray(subsurface, 'lpout')\n",
    "rng = np.nanmin(arr), np.nanmax(arr)"
   ]
  },
  {
   "cell_type": "markdown",
   "metadata": {},
   "source": [
    "## Plot in an Interactive 3D Window"
   ]
  },
  {
   "cell_type": "code",
   "execution_count": 8,
   "metadata": {},
   "outputs": [
    {
     "data": {
      "text/plain": [
       "[(313882.32057365216, 6005680.853308033, 765.5176418489975),\n",
       " (363625.0, 6007625.0, -1073.0),\n",
       " (0.04167821732553165, -0.12949650140842953, 0.990703579444196)]"
      ]
     },
     "execution_count": 8,
     "metadata": {},
     "output_type": "execute_result"
    }
   ],
   "source": [
    "p = vtki.Plotter()\n",
    "# p.add_mesh(extracted, syle='wireframe', opacity=0.25, scalars='lpout', rng=rng)\n",
    "p.add_bounds_axes(extracted, color='k', fontsize=30)\n",
    "p.add_mesh(low, scalars='lpout', stitle='lpout', rng=rng)\n",
    "p.add_mesh(sliced, scalars='lpout', rng=rng)\n",
    "p.add_mesh(topo, color='white', opacity=0.75)\n",
    "\n",
    "p.add_axes()\n",
    "p.plot()"
   ]
  },
  {
   "cell_type": "code",
   "execution_count": null,
   "metadata": {},
   "outputs": [],
   "source": []
  }
 ],
 "metadata": {
  "kernelspec": {
   "display_name": "Python [conda env:ogv]",
   "language": "python",
   "name": "conda-env-ogv-py"
  },
  "language_info": {
   "codemirror_mode": {
    "name": "ipython",
    "version": 3
   },
   "file_extension": ".py",
   "mimetype": "text/x-python",
   "name": "python",
   "nbconvert_exporter": "python",
   "pygments_lexer": "ipython3",
   "version": "3.6.5"
  }
 },
 "nbformat": 4,
 "nbformat_minor": 2
}
