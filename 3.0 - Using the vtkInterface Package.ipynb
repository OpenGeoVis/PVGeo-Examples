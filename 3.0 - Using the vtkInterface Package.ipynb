{
 "cells": [
  {
   "cell_type": "markdown",
   "metadata": {},
   "source": [
    "# *WIP:* Using the vtkInterface Package\n",
    "\n",
    "This notebook is a work in progress to demo how PVGeo can be used with `vtki` for creating integrated visualizations directly in a Python environment. At this time, the 3D rendering is perfromed in a separate window and we have yet to embed the VTK rendering windowinf into some sort of Jupyter widget.\n",
    "\n",
    "Maybe someone reading this knows how to embed the rendering window into a widget?!?? If so, join us on [slack](http://slack.pvgeo.org) and let's collaborate!\n",
    "\n",
    "**DISCLAIMER:** This currently only works on versions `0.13.x` and above of `vtki` and `PVGeo>=1.1.41`\n",
    "\n",
    "```sh\n",
    "pip install vtki>=0.13.1\n",
    "```\n",
    "\n",
    "**Note:** You can have interactive 3D renderings by specifying `notebook=False` in the plotting routine. This will open a seprate window with the rendering.\n",
    "\n",
    "## Overview\n",
    "\n",
    "The goal set forth for this notebook is to use a comination of Python packages to create an integrated visualization of some data and models for a specific project. These packages and their tasks are:\n",
    "\n",
    "- `discretize` for some file IO,\n",
    "- `SimPEG` inversion results for an inverted model\n",
    "- `PVGeo` for its post processing filters and data integration algorithms\n",
    "- `vtki` to create the 3D renderings of the whole data scene\n"
   ]
  },
  {
   "cell_type": "code",
   "execution_count": 1,
   "metadata": {},
   "outputs": [],
   "source": [
    "import vtki\n",
    "import PVGeo\n",
    "import numpy as np\n",
    "import discretize"
   ]
  },
  {
   "cell_type": "code",
   "execution_count": 2,
   "metadata": {},
   "outputs": [],
   "source": [
    "# Import some specific algorithms from PVGeo that we'd like to use\n",
    "from PVGeo.grids import ExtractTopography\n",
    "from PVGeo.ubc import TopoReader\n",
    "from PVGeo.filters import PercentThreshold, ManySlicesAlongAxis"
   ]
  },
  {
   "cell_type": "code",
   "execution_count": 3,
   "metadata": {},
   "outputs": [],
   "source": [
    "# This sets the plotting theme of `vtki` to look just like a ParaView rendering\n",
    "vtki.set_plot_theme('paraview')"
   ]
  },
  {
   "cell_type": "markdown",
   "metadata": {},
   "source": [
    "## Load the Data\n",
    "\n",
    "Here we load in some data we'd like to process: the [**Laguna del Maule Bouguer Gravity**](http://docs.simpeg.xyz/content/examples/04-grav/plot_laguna_del_maule_inversion.html#sphx-glr-content-examples-04-grav-plot-laguna-del-maule-inversion-py) example from the SimPEG docs.\n",
    "\n",
    "This data scene is was produced from the [Laguna del Maule Bouguer Gravity](http://docs.simpeg.xyz/content/examples/04-grav/plot_laguna_del_maule_inversion.html#sphx-glr-content-examples-04-grav-plot-laguna-del-maule-inversion-py) example provided by [Craig Miller](https://github.com/craigmillernz) (Maule volcanic field, Chile. Refer to Miller et al 2016 EPSL for full details.)\n",
    "\n",
    "> Miller, C. A., Williams-Jones, G., Fournier, D., & Witter, J. (2017). 3D gravity inversion and thermodynamic modelling reveal properties of shallow silicic magma reservoir beneath Laguna del Maule, Chile. Earth and Planetary Science Letters, 459, 14–27. https://doi.org/10.1016/j.epsl.2016.11.007"
   ]
  },
  {
   "cell_type": "code",
   "execution_count": 4,
   "metadata": {},
   "outputs": [],
   "source": [
    "# Load the a TensorMesh and some already processed model data \n",
    "mesh = discretize.TensorMesh.readUBC('craig_chile.msh', directory='data/Craig-Chile')\n",
    "models = {'lpout': mesh.readModelUBC(fileName='Lpout.mod', directory='data/Craig-Chile')}"
   ]
  },
  {
   "cell_type": "code",
   "execution_count": 5,
   "metadata": {},
   "outputs": [
    {
     "data": {
      "text/html": [
       "<table><tr><th>Information</th><th>Data Arrays</th></tr><tr><td>\n",
       "<table>\n",
       "<tr><th>vtkPolyData</th><th>Values</th></tr>\n",
       "<tr><td>N Cells</td><td>381924</td></tr>\n",
       "<tr><td>N Points</td><td>381924</td></tr>\n",
       "<tr><td>X Bounds</td><td>355006.800, 371989.100</td></tr>\n",
       "<tr><td>Y Bounds</td><td>5999000.600, 6015982.900</td></tr>\n",
       "<tr><td>Z Bounds</td><td>2050.000, 3104.000</td></tr>\n",
       "</table>\n",
       "\n",
       "</td><td>\n",
       "<table>\n",
       "<tr><th>Name</th><th>Field</th><th>Type</th><th>Min</th><th>Max</th></tr>\n",
       "<tr><td><b>Elevation</b></td><td>Points</td><td>float64</td><td>2.050e+03</td><td>3.104e+03</td></tr>\n",
       "</table>\n",
       "\n",
       "</td></tr> </table>"
      ],
      "text/plain": [
       "(PolyData)0x103c1a948"
      ]
     },
     "execution_count": 5,
     "metadata": {},
     "output_type": "execute_result"
    }
   ],
   "source": [
    "# Load topography data using PVGeo\n",
    "topo = TopoReader().Apply('data/Craig-Chile/LdM_topo.topo')\n",
    "# Note that PVGeo will return a vtki wrapped data object if vtki is available!\n",
    "topo"
   ]
  },
  {
   "cell_type": "markdown",
   "metadata": {},
   "source": [
    "## Build a Pipeline \n",
    "\n",
    "Here we build up a pipeline that will transform and integrate the data"
   ]
  },
  {
   "cell_type": "code",
   "execution_count": 6,
   "metadata": {},
   "outputs": [],
   "source": [
    "extractor = ExtractTopography(offset=-150, tolerance=10, op='underneath')\n",
    "extracted = extractor.Apply(mesh.toVTK(models=models), topo)"
   ]
  },
  {
   "cell_type": "code",
   "execution_count": 7,
   "metadata": {},
   "outputs": [
    {
     "data": {
      "text/html": [
       "<table><tr><th>Information</th><th>Data Arrays</th></tr><tr><td>\n",
       "<table>\n",
       "<tr><th>vtkUnstructuredGrid</th><th>Values</th></tr>\n",
       "<tr><td>N Cells</td><td>156570</td></tr>\n",
       "<tr><td>N Points</td><td>167711</td></tr>\n",
       "<tr><td>X Bounds</td><td>355000.000, 372250.000</td></tr>\n",
       "<tr><td>Y Bounds</td><td>5999000.000, 6016250.000</td></tr>\n",
       "<tr><td>Z Bounds</td><td>-5250.000, 2900.000</td></tr>\n",
       "</table>\n",
       "\n",
       "</td><td>\n",
       "<table>\n",
       "<tr><th>Name</th><th>Field</th><th>Type</th><th>Min</th><th>Max</th></tr>\n",
       "<tr><td><b>lpout</b></td><td>Cells</td><td>float64</td><td>-6.000e-01</td><td>3.000e-01</td></tr>\n",
       "<tr><td>Extracted</td><td>Cells</td><td>int64</td><td>1.000e+00</td><td>1.000e+00</td></tr>\n",
       "</table>\n",
       "\n",
       "</td></tr> </table>"
      ],
      "text/plain": [
       "(UnstructuredGrid)0x11cb165e8"
      ]
     },
     "execution_count": 7,
     "metadata": {},
     "output_type": "execute_result"
    }
   ],
   "source": [
    "# threshold out the topography by a simple percent threshold in PVGeo\n",
    "subsurface = PercentThreshold().Apply(extracted, 'Extracted')\n",
    "subsurface"
   ]
  },
  {
   "cell_type": "code",
   "execution_count": 8,
   "metadata": {},
   "outputs": [],
   "source": [
    "# Get the scalar range to plot everything the same way\n",
    "arr = PVGeo.getArray(subsurface, 'lpout')\n",
    "rng = np.nanmin(arr), np.nanmax(arr)"
   ]
  },
  {
   "cell_type": "code",
   "execution_count": 9,
   "metadata": {},
   "outputs": [
    {
     "data": {
      "image/png": "[encoded data removed]",
      "text/plain": [
       "<PIL.Image.Image image mode=RGB size=512x384 at 0x11E76A518>"
      ]
     },
     "metadata": {},
     "output_type": "display_data"
    }
   ],
   "source": [
    "# threshold using vtki on a pecific value\n",
    "low = subsurface.threshold(-0.2, 'lpout', invert=True)\n",
    "low.plot(rng=rng, window_size=[1024//2, 768//2])"
   ]
  },
  {
   "cell_type": "code",
   "execution_count": 10,
   "metadata": {},
   "outputs": [
    {
     "data": {
      "text/html": [
       "<table><tr><th>Information</th><th>Blocks</th></tr><tr><td>\n",
       "<table>\n",
       "<tr><th>vtkMultiBlockDataSet</th><th>Values</th></tr>\n",
       "<tr><td>N Blocks</td><td>5</td></tr>\n",
       "<tr><td>X Bounds</td><td>355000.000, 372250.000</td></tr>\n",
       "<tr><td>Y Bounds</td><td>5999172.500, 6016077.500</td></tr>\n",
       "<tr><td>Z Bounds</td><td>-5250.000, 2900.000</td></tr>\n",
       "</table>\n",
       "\n",
       "</td><td>\n",
       "<table>\n",
       "<tr><th>Index</th><th>Name</th><th>Type</th></tr>\n",
       "<tr><th>0</th><th>Slice00</th><th>vtkPolyData</th></tr>\n",
       "<tr><th>1</th><th>Slice01</th><th>vtkPolyData</th></tr>\n",
       "<tr><th>2</th><th>Slice02</th><th>vtkPolyData</th></tr>\n",
       "<tr><th>3</th><th>Slice03</th><th>vtkPolyData</th></tr>\n",
       "<tr><th>4</th><th>Slice04</th><th>vtkPolyData</th></tr>\n",
       "</table>\n",
       "\n",
       "</td></tr> </table>"
      ],
      "text/plain": [
       "(MultiBlock)0x11f676528"
      ]
     },
     "execution_count": 10,
     "metadata": {},
     "output_type": "execute_result"
    }
   ],
   "source": [
    "# Slice the subsurface model\n",
    "sliced = ManySlicesAlongAxis(numSlices=5, axis=1).Apply(subsurface)\n",
    "sliced"
   ]
  },
  {
   "cell_type": "markdown",
   "metadata": {},
   "source": [
    "## Plot in an Interactive 3D Window"
   ]
  },
  {
   "cell_type": "code",
   "execution_count": 11,
   "metadata": {},
   "outputs": [
    {
     "data": {
      "text/plain": [
       "[(392055.92420956714, 6036055.924209567, 27255.924209567154),\n",
       " (363625.0, 6007625.0, -1175.0),\n",
       " (0.0, 0.0, 1.0)]"
      ]
     },
     "execution_count": 11,
     "metadata": {},
     "output_type": "execute_result"
    }
   ],
   "source": [
    "# plot a single dataset\n",
    "sliced.plot(scalars='lpout', notebook=False, )"
   ]
  },
  {
   "cell_type": "code",
   "execution_count": 12,
   "metadata": {},
   "outputs": [
    {
     "data": {
      "text/plain": [
       "[(409964.832171196, 6021311.927859372, 11042.360915366977),\n",
       " (363625.0, 6007625.0, -1073.0),\n",
       " (-0.18804172395380744, -0.2122002377397165, 0.9589636954315257)]"
      ]
     },
     "execution_count": 12,
     "metadata": {},
     "output_type": "execute_result"
    }
   ],
   "source": [
    "# Or better yet, plot them all in one rendering environment!\n",
    "p = vtki.Plotter(notebook=False)\n",
    "#p.add_mesh(extracted, syle='wireframe', opacity=0.25, scalars='lpout', rng=rng)\n",
    "p.add_bounds_axes(extracted, color='k', fontsize=30)\n",
    "p.add_mesh(low, scalars='lpout', stitle='lpout', rng=rng)\n",
    "p.add_mesh(sliced, scalars='lpout', rng=rng)\n",
    "p.add_mesh(topo, color='white', opacity=0.5, psize=1.0)\n",
    "p.add_axes()\n",
    "p.plot(in_background=False)"
   ]
  },
  {
   "cell_type": "code",
   "execution_count": null,
   "metadata": {},
   "outputs": [],
   "source": []
  }
 ],
 "metadata": {
  "kernelspec": {
   "display_name": "Python [conda env:ogv]",
   "language": "python",
   "name": "conda-env-ogv-py"
  },
  "language_info": {
   "codemirror_mode": {
    "name": "ipython",
    "version": 3
   },
   "file_extension": ".py",
   "mimetype": "text/x-python",
   "name": "python",
   "nbconvert_exporter": "python",
   "pygments_lexer": "ipython3",
   "version": "3.6.5"
  }
 },
 "nbformat": 4,
 "nbformat_minor": 2
}
